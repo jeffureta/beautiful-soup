{
 "cells": [
  {
   "cell_type": "code",
   "execution_count": 1,
   "id": "8d440b91",
   "metadata": {
    "_cell_guid": "b1076dfc-b9ad-4769-8c92-a6c4dae69d19",
    "_uuid": "8f2839f25d086af736a60e9eeb907d3b93b6e0e5",
    "execution": {
     "iopub.execute_input": "2023-08-01T19:25:00.380195Z",
     "iopub.status.busy": "2023-08-01T19:25:00.379703Z",
     "iopub.status.idle": "2023-08-01T19:25:00.390852Z",
     "shell.execute_reply": "2023-08-01T19:25:00.389722Z"
    },
    "papermill": {
     "duration": 0.020531,
     "end_time": "2023-08-01T19:25:00.393203",
     "exception": false,
     "start_time": "2023-08-01T19:25:00.372672",
     "status": "completed"
    },
    "tags": []
   },
   "outputs": [],
   "source": [
    "# This Python 3 environment comes with many helpful analytics libraries installed\n",
    "# It is defined by the kaggle/python Docker image: https://github.com/kaggle/docker-python\n",
    "# For example, here's several helpful packages to load\n",
    "\n",
    "import numpy as np # linear algebra\n",
    "import pandas as pd # data processing, CSV file I/O (e.g. pd.read_csv)\n",
    "\n",
    "# Input data files are available in the read-only \"../input/\" directory\n",
    "# For example, running this (by clicking run or pressing Shift+Enter) will list all files under the input directory\n",
    "\n",
    "import os\n",
    "for dirname, _, filenames in os.walk('/kaggle/input'):\n",
    "    for filename in filenames:\n",
    "        print(os.path.join(dirname, filename))\n",
    "\n",
    "# You can write up to 20GB to the current directory (/kaggle/working/) that gets preserved as output when you create a version using \"Save & Run All\" \n",
    "# You can also write temporary files to /kaggle/temp/, but they won't be saved outside of the current session"
   ]
  },
  {
   "cell_type": "code",
   "execution_count": 2,
   "id": "960df709",
   "metadata": {
    "execution": {
     "iopub.execute_input": "2023-08-01T19:25:00.404271Z",
     "iopub.status.busy": "2023-08-01T19:25:00.403829Z",
     "iopub.status.idle": "2023-08-01T19:26:20.929080Z",
     "shell.execute_reply": "2023-08-01T19:26:20.927539Z"
    },
    "papermill": {
     "duration": 80.533747,
     "end_time": "2023-08-01T19:26:20.931754",
     "exception": false,
     "start_time": "2023-08-01T19:25:00.398007",
     "status": "completed"
    },
    "tags": []
   },
   "outputs": [
    {
     "name": "stdout",
     "output_type": "stream",
     "text": [
      "\u001b[33m\u001b[1mwarning  libmamba\u001b[m Cache file \"/opt/conda/pkgs/cache/c6f2354e.json\" was modified by another program\r\n",
      "\u001b[33m\u001b[1mwarning  libmamba\u001b[m Cache file \"/opt/conda/pkgs/cache/86b0f08d.json\" was modified by another program\r\n",
      "\u001b[33m\u001b[1mwarning  libmamba\u001b[m Cache file \"/opt/conda/pkgs/cache/c9ddbd6b.json\" was modified by another program\r\n",
      "\u001b[33m\u001b[1mwarning  libmamba\u001b[m Cache file \"/opt/conda/pkgs/cache/b121c3e7.json\" was modified by another program\r\n",
      "\u001b[33m\u001b[1mwarning  libmamba\u001b[m Cache file \"/opt/conda/pkgs/cache/497deca9.json\" was modified by another program\r\n",
      "\u001b[33m\u001b[1mwarning  libmamba\u001b[m Cache file \"/opt/conda/pkgs/cache/09cdf8bf.json\" was modified by another program\r\n",
      "\u001b[33m\u001b[1mwarning  libmamba\u001b[m Cache file \"/opt/conda/pkgs/cache/47929eba.json\" was modified by another program\r\n",
      "\u001b[33m\u001b[1mwarning  libmamba\u001b[m Cache file \"/opt/conda/pkgs/cache/3e39a7aa.json\" was modified by another program\r\n",
      "\u001b[33m\u001b[1mwarning  libmamba\u001b[m Cache file \"/opt/conda/pkgs/cache/2ce54b42.json\" was modified by another program\r\n",
      "\u001b[33m\u001b[1mwarning  libmamba\u001b[m Cache file \"/opt/conda/pkgs/cache/4ea078d6.json\" was modified by another program\r\n",
      "Preparing transaction: ...working... done\r\n",
      "Verifying transaction: ...working... done\r\n",
      "Executing transaction: ...working... done\r\n",
      "Preparing transaction: ...working... done\r\n",
      "Verifying transaction: ...working... done\r\n",
      "Executing transaction: ...working... done\r\n"
     ]
    }
   ],
   "source": [
    "!mamba install -q bs4==4.10.0 -y\n",
    "!mamba install -q html5lib==1.1 -y \n",
    "!pip install -q lxml==4.6.4"
   ]
  },
  {
   "cell_type": "code",
   "execution_count": 3,
   "id": "e1925e94",
   "metadata": {
    "execution": {
     "iopub.execute_input": "2023-08-01T19:26:20.944859Z",
     "iopub.status.busy": "2023-08-01T19:26:20.944428Z",
     "iopub.status.idle": "2023-08-01T19:26:21.068198Z",
     "shell.execute_reply": "2023-08-01T19:26:21.066828Z"
    },
    "papermill": {
     "duration": 0.133236,
     "end_time": "2023-08-01T19:26:21.070678",
     "exception": false,
     "start_time": "2023-08-01T19:26:20.937442",
     "status": "completed"
    },
    "tags": []
   },
   "outputs": [],
   "source": [
    "import requests\n",
    "from bs4 import BeautifulSoup"
   ]
  },
  {
   "cell_type": "code",
   "execution_count": 4,
   "id": "625b9941",
   "metadata": {
    "execution": {
     "iopub.execute_input": "2023-08-01T19:26:21.084384Z",
     "iopub.status.busy": "2023-08-01T19:26:21.082739Z",
     "iopub.status.idle": "2023-08-01T19:26:21.088459Z",
     "shell.execute_reply": "2023-08-01T19:26:21.087643Z"
    },
    "papermill": {
     "duration": 0.014505,
     "end_time": "2023-08-01T19:26:21.090656",
     "exception": false,
     "start_time": "2023-08-01T19:26:21.076151",
     "status": "completed"
    },
    "tags": []
   },
   "outputs": [],
   "source": [
    "url = \"https://cf-courses-data.s3.us.cloud-object-storage.appdomain.cloud/IBMDeveloperSkillsNetwork-PY0220EN-SkillsNetwork/labs/project/netflix_data_webpage.html\""
   ]
  },
  {
   "cell_type": "code",
   "execution_count": 5,
   "id": "b27a7d68",
   "metadata": {
    "execution": {
     "iopub.execute_input": "2023-08-01T19:26:21.103348Z",
     "iopub.status.busy": "2023-08-01T19:26:21.102971Z",
     "iopub.status.idle": "2023-08-01T19:26:21.549397Z",
     "shell.execute_reply": "2023-08-01T19:26:21.548048Z"
    },
    "papermill": {
     "duration": 0.455972,
     "end_time": "2023-08-01T19:26:21.552241",
     "exception": false,
     "start_time": "2023-08-01T19:26:21.096269",
     "status": "completed"
    },
    "tags": []
   },
   "outputs": [],
   "source": [
    "data = requests.get(url).text"
   ]
  },
  {
   "cell_type": "code",
   "execution_count": 6,
   "id": "8c951ede",
   "metadata": {
    "execution": {
     "iopub.execute_input": "2023-08-01T19:26:21.567085Z",
     "iopub.status.busy": "2023-08-01T19:26:21.565852Z",
     "iopub.status.idle": "2023-08-01T19:26:21.827916Z",
     "shell.execute_reply": "2023-08-01T19:26:21.826538Z"
    },
    "papermill": {
     "duration": 0.272739,
     "end_time": "2023-08-01T19:26:21.831158",
     "exception": false,
     "start_time": "2023-08-01T19:26:21.558419",
     "status": "completed"
    },
    "tags": []
   },
   "outputs": [],
   "source": [
    "soup = BeautifulSoup(data, 'html5lib')"
   ]
  },
  {
   "cell_type": "code",
   "execution_count": 7,
   "id": "c119b2d8",
   "metadata": {
    "execution": {
     "iopub.execute_input": "2023-08-01T19:26:21.845467Z",
     "iopub.status.busy": "2023-08-01T19:26:21.844950Z",
     "iopub.status.idle": "2023-08-01T19:26:21.864128Z",
     "shell.execute_reply": "2023-08-01T19:26:21.862930Z"
    },
    "papermill": {
     "duration": 0.029529,
     "end_time": "2023-08-01T19:26:21.866885",
     "exception": false,
     "start_time": "2023-08-01T19:26:21.837356",
     "status": "completed"
    },
    "tags": []
   },
   "outputs": [],
   "source": [
    "netflix_data = pd.DataFrame(columns=[\"Date\", \"Open\", \"High\", \"Low\", \"Close\", \"Volume\"])"
   ]
  },
  {
   "cell_type": "code",
   "execution_count": 8,
   "id": "83540cd2",
   "metadata": {
    "execution": {
     "iopub.execute_input": "2023-08-01T19:26:21.881029Z",
     "iopub.status.busy": "2023-08-01T19:26:21.880531Z",
     "iopub.status.idle": "2023-08-01T19:26:22.058868Z",
     "shell.execute_reply": "2023-08-01T19:26:22.056565Z"
    },
    "papermill": {
     "duration": 0.188941,
     "end_time": "2023-08-01T19:26:22.062095",
     "exception": false,
     "start_time": "2023-08-01T19:26:21.873154",
     "status": "completed"
    },
    "tags": []
   },
   "outputs": [
    {
     "name": "stderr",
     "output_type": "stream",
     "text": [
      "/tmp/ipykernel_20/191514008.py:10: FutureWarning: The frame.append method is deprecated and will be removed from pandas in a future version. Use pandas.concat instead.\n",
      "  netflix_data = netflix_data.append({\"Date\":date, \"Open\":open, \"High\":high, \"Low\":low, \"Close\":close, \"Adj Close\":adj_close, \"Volume\":volume}, ignore_index=True)\n",
      "/tmp/ipykernel_20/191514008.py:10: FutureWarning: The frame.append method is deprecated and will be removed from pandas in a future version. Use pandas.concat instead.\n",
      "  netflix_data = netflix_data.append({\"Date\":date, \"Open\":open, \"High\":high, \"Low\":low, \"Close\":close, \"Adj Close\":adj_close, \"Volume\":volume}, ignore_index=True)\n",
      "/tmp/ipykernel_20/191514008.py:10: FutureWarning: The frame.append method is deprecated and will be removed from pandas in a future version. Use pandas.concat instead.\n",
      "  netflix_data = netflix_data.append({\"Date\":date, \"Open\":open, \"High\":high, \"Low\":low, \"Close\":close, \"Adj Close\":adj_close, \"Volume\":volume}, ignore_index=True)\n",
      "/tmp/ipykernel_20/191514008.py:10: FutureWarning: The frame.append method is deprecated and will be removed from pandas in a future version. Use pandas.concat instead.\n",
      "  netflix_data = netflix_data.append({\"Date\":date, \"Open\":open, \"High\":high, \"Low\":low, \"Close\":close, \"Adj Close\":adj_close, \"Volume\":volume}, ignore_index=True)\n",
      "/tmp/ipykernel_20/191514008.py:10: FutureWarning: The frame.append method is deprecated and will be removed from pandas in a future version. Use pandas.concat instead.\n",
      "  netflix_data = netflix_data.append({\"Date\":date, \"Open\":open, \"High\":high, \"Low\":low, \"Close\":close, \"Adj Close\":adj_close, \"Volume\":volume}, ignore_index=True)\n",
      "/tmp/ipykernel_20/191514008.py:10: FutureWarning: The frame.append method is deprecated and will be removed from pandas in a future version. Use pandas.concat instead.\n",
      "  netflix_data = netflix_data.append({\"Date\":date, \"Open\":open, \"High\":high, \"Low\":low, \"Close\":close, \"Adj Close\":adj_close, \"Volume\":volume}, ignore_index=True)\n",
      "/tmp/ipykernel_20/191514008.py:10: FutureWarning: The frame.append method is deprecated and will be removed from pandas in a future version. Use pandas.concat instead.\n",
      "  netflix_data = netflix_data.append({\"Date\":date, \"Open\":open, \"High\":high, \"Low\":low, \"Close\":close, \"Adj Close\":adj_close, \"Volume\":volume}, ignore_index=True)\n",
      "/tmp/ipykernel_20/191514008.py:10: FutureWarning: The frame.append method is deprecated and will be removed from pandas in a future version. Use pandas.concat instead.\n",
      "  netflix_data = netflix_data.append({\"Date\":date, \"Open\":open, \"High\":high, \"Low\":low, \"Close\":close, \"Adj Close\":adj_close, \"Volume\":volume}, ignore_index=True)\n",
      "/tmp/ipykernel_20/191514008.py:10: FutureWarning: The frame.append method is deprecated and will be removed from pandas in a future version. Use pandas.concat instead.\n",
      "  netflix_data = netflix_data.append({\"Date\":date, \"Open\":open, \"High\":high, \"Low\":low, \"Close\":close, \"Adj Close\":adj_close, \"Volume\":volume}, ignore_index=True)\n",
      "/tmp/ipykernel_20/191514008.py:10: FutureWarning: The frame.append method is deprecated and will be removed from pandas in a future version. Use pandas.concat instead.\n",
      "  netflix_data = netflix_data.append({\"Date\":date, \"Open\":open, \"High\":high, \"Low\":low, \"Close\":close, \"Adj Close\":adj_close, \"Volume\":volume}, ignore_index=True)\n",
      "/tmp/ipykernel_20/191514008.py:10: FutureWarning: The frame.append method is deprecated and will be removed from pandas in a future version. Use pandas.concat instead.\n",
      "  netflix_data = netflix_data.append({\"Date\":date, \"Open\":open, \"High\":high, \"Low\":low, \"Close\":close, \"Adj Close\":adj_close, \"Volume\":volume}, ignore_index=True)\n",
      "/tmp/ipykernel_20/191514008.py:10: FutureWarning: The frame.append method is deprecated and will be removed from pandas in a future version. Use pandas.concat instead.\n",
      "  netflix_data = netflix_data.append({\"Date\":date, \"Open\":open, \"High\":high, \"Low\":low, \"Close\":close, \"Adj Close\":adj_close, \"Volume\":volume}, ignore_index=True)\n",
      "/tmp/ipykernel_20/191514008.py:10: FutureWarning: The frame.append method is deprecated and will be removed from pandas in a future version. Use pandas.concat instead.\n",
      "  netflix_data = netflix_data.append({\"Date\":date, \"Open\":open, \"High\":high, \"Low\":low, \"Close\":close, \"Adj Close\":adj_close, \"Volume\":volume}, ignore_index=True)\n",
      "/tmp/ipykernel_20/191514008.py:10: FutureWarning: The frame.append method is deprecated and will be removed from pandas in a future version. Use pandas.concat instead.\n",
      "  netflix_data = netflix_data.append({\"Date\":date, \"Open\":open, \"High\":high, \"Low\":low, \"Close\":close, \"Adj Close\":adj_close, \"Volume\":volume}, ignore_index=True)\n",
      "/tmp/ipykernel_20/191514008.py:10: FutureWarning: The frame.append method is deprecated and will be removed from pandas in a future version. Use pandas.concat instead.\n",
      "  netflix_data = netflix_data.append({\"Date\":date, \"Open\":open, \"High\":high, \"Low\":low, \"Close\":close, \"Adj Close\":adj_close, \"Volume\":volume}, ignore_index=True)\n",
      "/tmp/ipykernel_20/191514008.py:10: FutureWarning: The frame.append method is deprecated and will be removed from pandas in a future version. Use pandas.concat instead.\n",
      "  netflix_data = netflix_data.append({\"Date\":date, \"Open\":open, \"High\":high, \"Low\":low, \"Close\":close, \"Adj Close\":adj_close, \"Volume\":volume}, ignore_index=True)\n",
      "/tmp/ipykernel_20/191514008.py:10: FutureWarning: The frame.append method is deprecated and will be removed from pandas in a future version. Use pandas.concat instead.\n",
      "  netflix_data = netflix_data.append({\"Date\":date, \"Open\":open, \"High\":high, \"Low\":low, \"Close\":close, \"Adj Close\":adj_close, \"Volume\":volume}, ignore_index=True)\n",
      "/tmp/ipykernel_20/191514008.py:10: FutureWarning: The frame.append method is deprecated and will be removed from pandas in a future version. Use pandas.concat instead.\n",
      "  netflix_data = netflix_data.append({\"Date\":date, \"Open\":open, \"High\":high, \"Low\":low, \"Close\":close, \"Adj Close\":adj_close, \"Volume\":volume}, ignore_index=True)\n",
      "/tmp/ipykernel_20/191514008.py:10: FutureWarning: The frame.append method is deprecated and will be removed from pandas in a future version. Use pandas.concat instead.\n",
      "  netflix_data = netflix_data.append({\"Date\":date, \"Open\":open, \"High\":high, \"Low\":low, \"Close\":close, \"Adj Close\":adj_close, \"Volume\":volume}, ignore_index=True)\n",
      "/tmp/ipykernel_20/191514008.py:10: FutureWarning: The frame.append method is deprecated and will be removed from pandas in a future version. Use pandas.concat instead.\n",
      "  netflix_data = netflix_data.append({\"Date\":date, \"Open\":open, \"High\":high, \"Low\":low, \"Close\":close, \"Adj Close\":adj_close, \"Volume\":volume}, ignore_index=True)\n",
      "/tmp/ipykernel_20/191514008.py:10: FutureWarning: The frame.append method is deprecated and will be removed from pandas in a future version. Use pandas.concat instead.\n",
      "  netflix_data = netflix_data.append({\"Date\":date, \"Open\":open, \"High\":high, \"Low\":low, \"Close\":close, \"Adj Close\":adj_close, \"Volume\":volume}, ignore_index=True)\n",
      "/tmp/ipykernel_20/191514008.py:10: FutureWarning: The frame.append method is deprecated and will be removed from pandas in a future version. Use pandas.concat instead.\n",
      "  netflix_data = netflix_data.append({\"Date\":date, \"Open\":open, \"High\":high, \"Low\":low, \"Close\":close, \"Adj Close\":adj_close, \"Volume\":volume}, ignore_index=True)\n",
      "/tmp/ipykernel_20/191514008.py:10: FutureWarning: The frame.append method is deprecated and will be removed from pandas in a future version. Use pandas.concat instead.\n",
      "  netflix_data = netflix_data.append({\"Date\":date, \"Open\":open, \"High\":high, \"Low\":low, \"Close\":close, \"Adj Close\":adj_close, \"Volume\":volume}, ignore_index=True)\n",
      "/tmp/ipykernel_20/191514008.py:10: FutureWarning: The frame.append method is deprecated and will be removed from pandas in a future version. Use pandas.concat instead.\n",
      "  netflix_data = netflix_data.append({\"Date\":date, \"Open\":open, \"High\":high, \"Low\":low, \"Close\":close, \"Adj Close\":adj_close, \"Volume\":volume}, ignore_index=True)\n",
      "/tmp/ipykernel_20/191514008.py:10: FutureWarning: The frame.append method is deprecated and will be removed from pandas in a future version. Use pandas.concat instead.\n",
      "  netflix_data = netflix_data.append({\"Date\":date, \"Open\":open, \"High\":high, \"Low\":low, \"Close\":close, \"Adj Close\":adj_close, \"Volume\":volume}, ignore_index=True)\n",
      "/tmp/ipykernel_20/191514008.py:10: FutureWarning: The frame.append method is deprecated and will be removed from pandas in a future version. Use pandas.concat instead.\n",
      "  netflix_data = netflix_data.append({\"Date\":date, \"Open\":open, \"High\":high, \"Low\":low, \"Close\":close, \"Adj Close\":adj_close, \"Volume\":volume}, ignore_index=True)\n",
      "/tmp/ipykernel_20/191514008.py:10: FutureWarning: The frame.append method is deprecated and will be removed from pandas in a future version. Use pandas.concat instead.\n",
      "  netflix_data = netflix_data.append({\"Date\":date, \"Open\":open, \"High\":high, \"Low\":low, \"Close\":close, \"Adj Close\":adj_close, \"Volume\":volume}, ignore_index=True)\n",
      "/tmp/ipykernel_20/191514008.py:10: FutureWarning: The frame.append method is deprecated and will be removed from pandas in a future version. Use pandas.concat instead.\n",
      "  netflix_data = netflix_data.append({\"Date\":date, \"Open\":open, \"High\":high, \"Low\":low, \"Close\":close, \"Adj Close\":adj_close, \"Volume\":volume}, ignore_index=True)\n",
      "/tmp/ipykernel_20/191514008.py:10: FutureWarning: The frame.append method is deprecated and will be removed from pandas in a future version. Use pandas.concat instead.\n",
      "  netflix_data = netflix_data.append({\"Date\":date, \"Open\":open, \"High\":high, \"Low\":low, \"Close\":close, \"Adj Close\":adj_close, \"Volume\":volume}, ignore_index=True)\n",
      "/tmp/ipykernel_20/191514008.py:10: FutureWarning: The frame.append method is deprecated and will be removed from pandas in a future version. Use pandas.concat instead.\n",
      "  netflix_data = netflix_data.append({\"Date\":date, \"Open\":open, \"High\":high, \"Low\":low, \"Close\":close, \"Adj Close\":adj_close, \"Volume\":volume}, ignore_index=True)\n",
      "/tmp/ipykernel_20/191514008.py:10: FutureWarning: The frame.append method is deprecated and will be removed from pandas in a future version. Use pandas.concat instead.\n",
      "  netflix_data = netflix_data.append({\"Date\":date, \"Open\":open, \"High\":high, \"Low\":low, \"Close\":close, \"Adj Close\":adj_close, \"Volume\":volume}, ignore_index=True)\n",
      "/tmp/ipykernel_20/191514008.py:10: FutureWarning: The frame.append method is deprecated and will be removed from pandas in a future version. Use pandas.concat instead.\n",
      "  netflix_data = netflix_data.append({\"Date\":date, \"Open\":open, \"High\":high, \"Low\":low, \"Close\":close, \"Adj Close\":adj_close, \"Volume\":volume}, ignore_index=True)\n",
      "/tmp/ipykernel_20/191514008.py:10: FutureWarning: The frame.append method is deprecated and will be removed from pandas in a future version. Use pandas.concat instead.\n",
      "  netflix_data = netflix_data.append({\"Date\":date, \"Open\":open, \"High\":high, \"Low\":low, \"Close\":close, \"Adj Close\":adj_close, \"Volume\":volume}, ignore_index=True)\n",
      "/tmp/ipykernel_20/191514008.py:10: FutureWarning: The frame.append method is deprecated and will be removed from pandas in a future version. Use pandas.concat instead.\n",
      "  netflix_data = netflix_data.append({\"Date\":date, \"Open\":open, \"High\":high, \"Low\":low, \"Close\":close, \"Adj Close\":adj_close, \"Volume\":volume}, ignore_index=True)\n",
      "/tmp/ipykernel_20/191514008.py:10: FutureWarning: The frame.append method is deprecated and will be removed from pandas in a future version. Use pandas.concat instead.\n",
      "  netflix_data = netflix_data.append({\"Date\":date, \"Open\":open, \"High\":high, \"Low\":low, \"Close\":close, \"Adj Close\":adj_close, \"Volume\":volume}, ignore_index=True)\n",
      "/tmp/ipykernel_20/191514008.py:10: FutureWarning: The frame.append method is deprecated and will be removed from pandas in a future version. Use pandas.concat instead.\n",
      "  netflix_data = netflix_data.append({\"Date\":date, \"Open\":open, \"High\":high, \"Low\":low, \"Close\":close, \"Adj Close\":adj_close, \"Volume\":volume}, ignore_index=True)\n",
      "/tmp/ipykernel_20/191514008.py:10: FutureWarning: The frame.append method is deprecated and will be removed from pandas in a future version. Use pandas.concat instead.\n",
      "  netflix_data = netflix_data.append({\"Date\":date, \"Open\":open, \"High\":high, \"Low\":low, \"Close\":close, \"Adj Close\":adj_close, \"Volume\":volume}, ignore_index=True)\n",
      "/tmp/ipykernel_20/191514008.py:10: FutureWarning: The frame.append method is deprecated and will be removed from pandas in a future version. Use pandas.concat instead.\n",
      "  netflix_data = netflix_data.append({\"Date\":date, \"Open\":open, \"High\":high, \"Low\":low, \"Close\":close, \"Adj Close\":adj_close, \"Volume\":volume}, ignore_index=True)\n",
      "/tmp/ipykernel_20/191514008.py:10: FutureWarning: The frame.append method is deprecated and will be removed from pandas in a future version. Use pandas.concat instead.\n",
      "  netflix_data = netflix_data.append({\"Date\":date, \"Open\":open, \"High\":high, \"Low\":low, \"Close\":close, \"Adj Close\":adj_close, \"Volume\":volume}, ignore_index=True)\n",
      "/tmp/ipykernel_20/191514008.py:10: FutureWarning: The frame.append method is deprecated and will be removed from pandas in a future version. Use pandas.concat instead.\n",
      "  netflix_data = netflix_data.append({\"Date\":date, \"Open\":open, \"High\":high, \"Low\":low, \"Close\":close, \"Adj Close\":adj_close, \"Volume\":volume}, ignore_index=True)\n",
      "/tmp/ipykernel_20/191514008.py:10: FutureWarning: The frame.append method is deprecated and will be removed from pandas in a future version. Use pandas.concat instead.\n",
      "  netflix_data = netflix_data.append({\"Date\":date, \"Open\":open, \"High\":high, \"Low\":low, \"Close\":close, \"Adj Close\":adj_close, \"Volume\":volume}, ignore_index=True)\n",
      "/tmp/ipykernel_20/191514008.py:10: FutureWarning: The frame.append method is deprecated and will be removed from pandas in a future version. Use pandas.concat instead.\n",
      "  netflix_data = netflix_data.append({\"Date\":date, \"Open\":open, \"High\":high, \"Low\":low, \"Close\":close, \"Adj Close\":adj_close, \"Volume\":volume}, ignore_index=True)\n",
      "/tmp/ipykernel_20/191514008.py:10: FutureWarning: The frame.append method is deprecated and will be removed from pandas in a future version. Use pandas.concat instead.\n",
      "  netflix_data = netflix_data.append({\"Date\":date, \"Open\":open, \"High\":high, \"Low\":low, \"Close\":close, \"Adj Close\":adj_close, \"Volume\":volume}, ignore_index=True)\n",
      "/tmp/ipykernel_20/191514008.py:10: FutureWarning: The frame.append method is deprecated and will be removed from pandas in a future version. Use pandas.concat instead.\n",
      "  netflix_data = netflix_data.append({\"Date\":date, \"Open\":open, \"High\":high, \"Low\":low, \"Close\":close, \"Adj Close\":adj_close, \"Volume\":volume}, ignore_index=True)\n",
      "/tmp/ipykernel_20/191514008.py:10: FutureWarning: The frame.append method is deprecated and will be removed from pandas in a future version. Use pandas.concat instead.\n",
      "  netflix_data = netflix_data.append({\"Date\":date, \"Open\":open, \"High\":high, \"Low\":low, \"Close\":close, \"Adj Close\":adj_close, \"Volume\":volume}, ignore_index=True)\n",
      "/tmp/ipykernel_20/191514008.py:10: FutureWarning: The frame.append method is deprecated and will be removed from pandas in a future version. Use pandas.concat instead.\n",
      "  netflix_data = netflix_data.append({\"Date\":date, \"Open\":open, \"High\":high, \"Low\":low, \"Close\":close, \"Adj Close\":adj_close, \"Volume\":volume}, ignore_index=True)\n",
      "/tmp/ipykernel_20/191514008.py:10: FutureWarning: The frame.append method is deprecated and will be removed from pandas in a future version. Use pandas.concat instead.\n",
      "  netflix_data = netflix_data.append({\"Date\":date, \"Open\":open, \"High\":high, \"Low\":low, \"Close\":close, \"Adj Close\":adj_close, \"Volume\":volume}, ignore_index=True)\n",
      "/tmp/ipykernel_20/191514008.py:10: FutureWarning: The frame.append method is deprecated and will be removed from pandas in a future version. Use pandas.concat instead.\n",
      "  netflix_data = netflix_data.append({\"Date\":date, \"Open\":open, \"High\":high, \"Low\":low, \"Close\":close, \"Adj Close\":adj_close, \"Volume\":volume}, ignore_index=True)\n",
      "/tmp/ipykernel_20/191514008.py:10: FutureWarning: The frame.append method is deprecated and will be removed from pandas in a future version. Use pandas.concat instead.\n",
      "  netflix_data = netflix_data.append({\"Date\":date, \"Open\":open, \"High\":high, \"Low\":low, \"Close\":close, \"Adj Close\":adj_close, \"Volume\":volume}, ignore_index=True)\n",
      "/tmp/ipykernel_20/191514008.py:10: FutureWarning: The frame.append method is deprecated and will be removed from pandas in a future version. Use pandas.concat instead.\n",
      "  netflix_data = netflix_data.append({\"Date\":date, \"Open\":open, \"High\":high, \"Low\":low, \"Close\":close, \"Adj Close\":adj_close, \"Volume\":volume}, ignore_index=True)\n",
      "/tmp/ipykernel_20/191514008.py:10: FutureWarning: The frame.append method is deprecated and will be removed from pandas in a future version. Use pandas.concat instead.\n",
      "  netflix_data = netflix_data.append({\"Date\":date, \"Open\":open, \"High\":high, \"Low\":low, \"Close\":close, \"Adj Close\":adj_close, \"Volume\":volume}, ignore_index=True)\n",
      "/tmp/ipykernel_20/191514008.py:10: FutureWarning: The frame.append method is deprecated and will be removed from pandas in a future version. Use pandas.concat instead.\n",
      "  netflix_data = netflix_data.append({\"Date\":date, \"Open\":open, \"High\":high, \"Low\":low, \"Close\":close, \"Adj Close\":adj_close, \"Volume\":volume}, ignore_index=True)\n",
      "/tmp/ipykernel_20/191514008.py:10: FutureWarning: The frame.append method is deprecated and will be removed from pandas in a future version. Use pandas.concat instead.\n",
      "  netflix_data = netflix_data.append({\"Date\":date, \"Open\":open, \"High\":high, \"Low\":low, \"Close\":close, \"Adj Close\":adj_close, \"Volume\":volume}, ignore_index=True)\n",
      "/tmp/ipykernel_20/191514008.py:10: FutureWarning: The frame.append method is deprecated and will be removed from pandas in a future version. Use pandas.concat instead.\n",
      "  netflix_data = netflix_data.append({\"Date\":date, \"Open\":open, \"High\":high, \"Low\":low, \"Close\":close, \"Adj Close\":adj_close, \"Volume\":volume}, ignore_index=True)\n",
      "/tmp/ipykernel_20/191514008.py:10: FutureWarning: The frame.append method is deprecated and will be removed from pandas in a future version. Use pandas.concat instead.\n",
      "  netflix_data = netflix_data.append({\"Date\":date, \"Open\":open, \"High\":high, \"Low\":low, \"Close\":close, \"Adj Close\":adj_close, \"Volume\":volume}, ignore_index=True)\n",
      "/tmp/ipykernel_20/191514008.py:10: FutureWarning: The frame.append method is deprecated and will be removed from pandas in a future version. Use pandas.concat instead.\n",
      "  netflix_data = netflix_data.append({\"Date\":date, \"Open\":open, \"High\":high, \"Low\":low, \"Close\":close, \"Adj Close\":adj_close, \"Volume\":volume}, ignore_index=True)\n",
      "/tmp/ipykernel_20/191514008.py:10: FutureWarning: The frame.append method is deprecated and will be removed from pandas in a future version. Use pandas.concat instead.\n",
      "  netflix_data = netflix_data.append({\"Date\":date, \"Open\":open, \"High\":high, \"Low\":low, \"Close\":close, \"Adj Close\":adj_close, \"Volume\":volume}, ignore_index=True)\n",
      "/tmp/ipykernel_20/191514008.py:10: FutureWarning: The frame.append method is deprecated and will be removed from pandas in a future version. Use pandas.concat instead.\n",
      "  netflix_data = netflix_data.append({\"Date\":date, \"Open\":open, \"High\":high, \"Low\":low, \"Close\":close, \"Adj Close\":adj_close, \"Volume\":volume}, ignore_index=True)\n",
      "/tmp/ipykernel_20/191514008.py:10: FutureWarning: The frame.append method is deprecated and will be removed from pandas in a future version. Use pandas.concat instead.\n",
      "  netflix_data = netflix_data.append({\"Date\":date, \"Open\":open, \"High\":high, \"Low\":low, \"Close\":close, \"Adj Close\":adj_close, \"Volume\":volume}, ignore_index=True)\n",
      "/tmp/ipykernel_20/191514008.py:10: FutureWarning: The frame.append method is deprecated and will be removed from pandas in a future version. Use pandas.concat instead.\n",
      "  netflix_data = netflix_data.append({\"Date\":date, \"Open\":open, \"High\":high, \"Low\":low, \"Close\":close, \"Adj Close\":adj_close, \"Volume\":volume}, ignore_index=True)\n",
      "/tmp/ipykernel_20/191514008.py:10: FutureWarning: The frame.append method is deprecated and will be removed from pandas in a future version. Use pandas.concat instead.\n",
      "  netflix_data = netflix_data.append({\"Date\":date, \"Open\":open, \"High\":high, \"Low\":low, \"Close\":close, \"Adj Close\":adj_close, \"Volume\":volume}, ignore_index=True)\n",
      "/tmp/ipykernel_20/191514008.py:10: FutureWarning: The frame.append method is deprecated and will be removed from pandas in a future version. Use pandas.concat instead.\n",
      "  netflix_data = netflix_data.append({\"Date\":date, \"Open\":open, \"High\":high, \"Low\":low, \"Close\":close, \"Adj Close\":adj_close, \"Volume\":volume}, ignore_index=True)\n",
      "/tmp/ipykernel_20/191514008.py:10: FutureWarning: The frame.append method is deprecated and will be removed from pandas in a future version. Use pandas.concat instead.\n",
      "  netflix_data = netflix_data.append({\"Date\":date, \"Open\":open, \"High\":high, \"Low\":low, \"Close\":close, \"Adj Close\":adj_close, \"Volume\":volume}, ignore_index=True)\n",
      "/tmp/ipykernel_20/191514008.py:10: FutureWarning: The frame.append method is deprecated and will be removed from pandas in a future version. Use pandas.concat instead.\n",
      "  netflix_data = netflix_data.append({\"Date\":date, \"Open\":open, \"High\":high, \"Low\":low, \"Close\":close, \"Adj Close\":adj_close, \"Volume\":volume}, ignore_index=True)\n",
      "/tmp/ipykernel_20/191514008.py:10: FutureWarning: The frame.append method is deprecated and will be removed from pandas in a future version. Use pandas.concat instead.\n",
      "  netflix_data = netflix_data.append({\"Date\":date, \"Open\":open, \"High\":high, \"Low\":low, \"Close\":close, \"Adj Close\":adj_close, \"Volume\":volume}, ignore_index=True)\n",
      "/tmp/ipykernel_20/191514008.py:10: FutureWarning: The frame.append method is deprecated and will be removed from pandas in a future version. Use pandas.concat instead.\n",
      "  netflix_data = netflix_data.append({\"Date\":date, \"Open\":open, \"High\":high, \"Low\":low, \"Close\":close, \"Adj Close\":adj_close, \"Volume\":volume}, ignore_index=True)\n",
      "/tmp/ipykernel_20/191514008.py:10: FutureWarning: The frame.append method is deprecated and will be removed from pandas in a future version. Use pandas.concat instead.\n",
      "  netflix_data = netflix_data.append({\"Date\":date, \"Open\":open, \"High\":high, \"Low\":low, \"Close\":close, \"Adj Close\":adj_close, \"Volume\":volume}, ignore_index=True)\n",
      "/tmp/ipykernel_20/191514008.py:10: FutureWarning: The frame.append method is deprecated and will be removed from pandas in a future version. Use pandas.concat instead.\n",
      "  netflix_data = netflix_data.append({\"Date\":date, \"Open\":open, \"High\":high, \"Low\":low, \"Close\":close, \"Adj Close\":adj_close, \"Volume\":volume}, ignore_index=True)\n",
      "/tmp/ipykernel_20/191514008.py:10: FutureWarning: The frame.append method is deprecated and will be removed from pandas in a future version. Use pandas.concat instead.\n",
      "  netflix_data = netflix_data.append({\"Date\":date, \"Open\":open, \"High\":high, \"Low\":low, \"Close\":close, \"Adj Close\":adj_close, \"Volume\":volume}, ignore_index=True)\n",
      "/tmp/ipykernel_20/191514008.py:10: FutureWarning: The frame.append method is deprecated and will be removed from pandas in a future version. Use pandas.concat instead.\n",
      "  netflix_data = netflix_data.append({\"Date\":date, \"Open\":open, \"High\":high, \"Low\":low, \"Close\":close, \"Adj Close\":adj_close, \"Volume\":volume}, ignore_index=True)\n"
     ]
    }
   ],
   "source": [
    "for row in soup.find(\"tbody\").find_all(\"tr\"):\n",
    "    col = row.find_all(\"td\")\n",
    "    date = col[0].text\n",
    "    open = col[1].text\n",
    "    high = col[2].text\n",
    "    low = col[3].text\n",
    "    close = col[4].text\n",
    "    adj_close = col[5].text\n",
    "    volume = col[6].text\n",
    "    netflix_data = netflix_data.append({\"Date\":date, \"Open\":open, \"High\":high, \"Low\":low, \"Close\":close, \"Adj Close\":adj_close, \"Volume\":volume}, ignore_index=True) "
   ]
  },
  {
   "cell_type": "code",
   "execution_count": 9,
   "id": "2a9e6c8f",
   "metadata": {
    "execution": {
     "iopub.execute_input": "2023-08-01T19:26:22.078569Z",
     "iopub.status.busy": "2023-08-01T19:26:22.078106Z",
     "iopub.status.idle": "2023-08-01T19:26:22.102469Z",
     "shell.execute_reply": "2023-08-01T19:26:22.101038Z"
    },
    "papermill": {
     "duration": 0.034897,
     "end_time": "2023-08-01T19:26:22.105199",
     "exception": false,
     "start_time": "2023-08-01T19:26:22.070302",
     "status": "completed"
    },
    "tags": []
   },
   "outputs": [
    {
     "data": {
      "text/html": [
       "<div>\n",
       "<style scoped>\n",
       "    .dataframe tbody tr th:only-of-type {\n",
       "        vertical-align: middle;\n",
       "    }\n",
       "\n",
       "    .dataframe tbody tr th {\n",
       "        vertical-align: top;\n",
       "    }\n",
       "\n",
       "    .dataframe thead th {\n",
       "        text-align: right;\n",
       "    }\n",
       "</style>\n",
       "<table border=\"1\" class=\"dataframe\">\n",
       "  <thead>\n",
       "    <tr style=\"text-align: right;\">\n",
       "      <th></th>\n",
       "      <th>Date</th>\n",
       "      <th>Open</th>\n",
       "      <th>High</th>\n",
       "      <th>Low</th>\n",
       "      <th>Close</th>\n",
       "      <th>Volume</th>\n",
       "      <th>Adj Close</th>\n",
       "    </tr>\n",
       "  </thead>\n",
       "  <tbody>\n",
       "    <tr>\n",
       "      <th>0</th>\n",
       "      <td>Jun 01, 2021</td>\n",
       "      <td>504.01</td>\n",
       "      <td>536.13</td>\n",
       "      <td>482.14</td>\n",
       "      <td>528.21</td>\n",
       "      <td>78,560,600</td>\n",
       "      <td>528.21</td>\n",
       "    </tr>\n",
       "    <tr>\n",
       "      <th>1</th>\n",
       "      <td>May 01, 2021</td>\n",
       "      <td>512.65</td>\n",
       "      <td>518.95</td>\n",
       "      <td>478.54</td>\n",
       "      <td>502.81</td>\n",
       "      <td>66,927,600</td>\n",
       "      <td>502.81</td>\n",
       "    </tr>\n",
       "    <tr>\n",
       "      <th>2</th>\n",
       "      <td>Apr 01, 2021</td>\n",
       "      <td>529.93</td>\n",
       "      <td>563.56</td>\n",
       "      <td>499.00</td>\n",
       "      <td>513.47</td>\n",
       "      <td>111,573,300</td>\n",
       "      <td>513.47</td>\n",
       "    </tr>\n",
       "    <tr>\n",
       "      <th>3</th>\n",
       "      <td>Mar 01, 2021</td>\n",
       "      <td>545.57</td>\n",
       "      <td>556.99</td>\n",
       "      <td>492.85</td>\n",
       "      <td>521.66</td>\n",
       "      <td>90,183,900</td>\n",
       "      <td>521.66</td>\n",
       "    </tr>\n",
       "    <tr>\n",
       "      <th>4</th>\n",
       "      <td>Feb 01, 2021</td>\n",
       "      <td>536.79</td>\n",
       "      <td>566.65</td>\n",
       "      <td>518.28</td>\n",
       "      <td>538.85</td>\n",
       "      <td>61,902,300</td>\n",
       "      <td>538.85</td>\n",
       "    </tr>\n",
       "  </tbody>\n",
       "</table>\n",
       "</div>"
      ],
      "text/plain": [
       "           Date    Open    High     Low   Close       Volume Adj Close\n",
       "0  Jun 01, 2021  504.01  536.13  482.14  528.21   78,560,600    528.21\n",
       "1  May 01, 2021  512.65  518.95  478.54  502.81   66,927,600    502.81\n",
       "2  Apr 01, 2021  529.93  563.56  499.00  513.47  111,573,300    513.47\n",
       "3  Mar 01, 2021  545.57  556.99  492.85  521.66   90,183,900    521.66\n",
       "4  Feb 01, 2021  536.79  566.65  518.28  538.85   61,902,300    538.85"
      ]
     },
     "execution_count": 9,
     "metadata": {},
     "output_type": "execute_result"
    }
   ],
   "source": [
    "netflix_data.head()"
   ]
  },
  {
   "cell_type": "code",
   "execution_count": 10,
   "id": "8c769ca4",
   "metadata": {
    "execution": {
     "iopub.execute_input": "2023-08-01T19:26:22.120433Z",
     "iopub.status.busy": "2023-08-01T19:26:22.119898Z",
     "iopub.status.idle": "2023-08-01T19:26:22.833452Z",
     "shell.execute_reply": "2023-08-01T19:26:22.832043Z"
    },
    "papermill": {
     "duration": 0.724948,
     "end_time": "2023-08-01T19:26:22.836712",
     "exception": false,
     "start_time": "2023-08-01T19:26:22.111764",
     "status": "completed"
    },
    "tags": []
   },
   "outputs": [],
   "source": [
    "read_html_pandas_data = pd.read_html(url)"
   ]
  },
  {
   "cell_type": "code",
   "execution_count": 11,
   "id": "0677cfcb",
   "metadata": {
    "execution": {
     "iopub.execute_input": "2023-08-01T19:26:22.852021Z",
     "iopub.status.busy": "2023-08-01T19:26:22.851541Z",
     "iopub.status.idle": "2023-08-01T19:26:22.937646Z",
     "shell.execute_reply": "2023-08-01T19:26:22.936054Z"
    },
    "papermill": {
     "duration": 0.0977,
     "end_time": "2023-08-01T19:26:22.941082",
     "exception": false,
     "start_time": "2023-08-01T19:26:22.843382",
     "status": "completed"
    },
    "tags": []
   },
   "outputs": [],
   "source": [
    "read_html_pandas_data = pd.read_html(str(soup))"
   ]
  },
  {
   "cell_type": "code",
   "execution_count": 12,
   "id": "aa994693",
   "metadata": {
    "execution": {
     "iopub.execute_input": "2023-08-01T19:26:22.956782Z",
     "iopub.status.busy": "2023-08-01T19:26:22.956312Z",
     "iopub.status.idle": "2023-08-01T19:26:22.971756Z",
     "shell.execute_reply": "2023-08-01T19:26:22.970474Z"
    },
    "papermill": {
     "duration": 0.02682,
     "end_time": "2023-08-01T19:26:22.974592",
     "exception": false,
     "start_time": "2023-08-01T19:26:22.947772",
     "status": "completed"
    },
    "tags": []
   },
   "outputs": [
    {
     "data": {
      "text/html": [
       "<div>\n",
       "<style scoped>\n",
       "    .dataframe tbody tr th:only-of-type {\n",
       "        vertical-align: middle;\n",
       "    }\n",
       "\n",
       "    .dataframe tbody tr th {\n",
       "        vertical-align: top;\n",
       "    }\n",
       "\n",
       "    .dataframe thead th {\n",
       "        text-align: right;\n",
       "    }\n",
       "</style>\n",
       "<table border=\"1\" class=\"dataframe\">\n",
       "  <thead>\n",
       "    <tr style=\"text-align: right;\">\n",
       "      <th></th>\n",
       "      <th>Date</th>\n",
       "      <th>Open</th>\n",
       "      <th>High</th>\n",
       "      <th>Low</th>\n",
       "      <th>Close*</th>\n",
       "      <th>Adj Close**</th>\n",
       "      <th>Volume</th>\n",
       "    </tr>\n",
       "  </thead>\n",
       "  <tbody>\n",
       "    <tr>\n",
       "      <th>0</th>\n",
       "      <td>Jun 01, 2021</td>\n",
       "      <td>504.01</td>\n",
       "      <td>536.13</td>\n",
       "      <td>482.14</td>\n",
       "      <td>528.21</td>\n",
       "      <td>528.21</td>\n",
       "      <td>78560600</td>\n",
       "    </tr>\n",
       "    <tr>\n",
       "      <th>1</th>\n",
       "      <td>May 01, 2021</td>\n",
       "      <td>512.65</td>\n",
       "      <td>518.95</td>\n",
       "      <td>478.54</td>\n",
       "      <td>502.81</td>\n",
       "      <td>502.81</td>\n",
       "      <td>66927600</td>\n",
       "    </tr>\n",
       "    <tr>\n",
       "      <th>2</th>\n",
       "      <td>Apr 01, 2021</td>\n",
       "      <td>529.93</td>\n",
       "      <td>563.56</td>\n",
       "      <td>499.00</td>\n",
       "      <td>513.47</td>\n",
       "      <td>513.47</td>\n",
       "      <td>111573300</td>\n",
       "    </tr>\n",
       "    <tr>\n",
       "      <th>3</th>\n",
       "      <td>Mar 01, 2021</td>\n",
       "      <td>545.57</td>\n",
       "      <td>556.99</td>\n",
       "      <td>492.85</td>\n",
       "      <td>521.66</td>\n",
       "      <td>521.66</td>\n",
       "      <td>90183900</td>\n",
       "    </tr>\n",
       "    <tr>\n",
       "      <th>4</th>\n",
       "      <td>Feb 01, 2021</td>\n",
       "      <td>536.79</td>\n",
       "      <td>566.65</td>\n",
       "      <td>518.28</td>\n",
       "      <td>538.85</td>\n",
       "      <td>538.85</td>\n",
       "      <td>61902300</td>\n",
       "    </tr>\n",
       "  </tbody>\n",
       "</table>\n",
       "</div>"
      ],
      "text/plain": [
       "           Date    Open    High     Low  Close* Adj Close**     Volume\n",
       "0  Jun 01, 2021  504.01  536.13  482.14  528.21      528.21   78560600\n",
       "1  May 01, 2021  512.65  518.95  478.54  502.81      502.81   66927600\n",
       "2  Apr 01, 2021  529.93  563.56  499.00  513.47      513.47  111573300\n",
       "3  Mar 01, 2021  545.57  556.99  492.85  521.66      521.66   90183900\n",
       "4  Feb 01, 2021  536.79  566.65  518.28  538.85      538.85   61902300"
      ]
     },
     "execution_count": 12,
     "metadata": {},
     "output_type": "execute_result"
    }
   ],
   "source": [
    "netflix_dataframe = read_html_pandas_data[0]\n",
    "\n",
    "netflix_dataframe.head()"
   ]
  },
  {
   "cell_type": "code",
   "execution_count": 13,
   "id": "179e3cef",
   "metadata": {
    "execution": {
     "iopub.execute_input": "2023-08-01T19:26:22.992517Z",
     "iopub.status.busy": "2023-08-01T19:26:22.990990Z",
     "iopub.status.idle": "2023-08-01T19:26:22.997165Z",
     "shell.execute_reply": "2023-08-01T19:26:22.996167Z"
    },
    "papermill": {
     "duration": 0.017413,
     "end_time": "2023-08-01T19:26:22.999532",
     "exception": false,
     "start_time": "2023-08-01T19:26:22.982119",
     "status": "completed"
    },
    "tags": []
   },
   "outputs": [],
   "source": [
    "amazon_url = \"https://cf-courses-data.s3.us.cloud-object-storage.appdomain.cloud/IBMDeveloperSkillsNetwork-PY0220EN-SkillsNetwork/labs/project/amazon_data_webpage.html\""
   ]
  },
  {
   "cell_type": "code",
   "execution_count": 14,
   "id": "4ed86924",
   "metadata": {
    "execution": {
     "iopub.execute_input": "2023-08-01T19:26:23.015125Z",
     "iopub.status.busy": "2023-08-01T19:26:23.014620Z",
     "iopub.status.idle": "2023-08-01T19:26:23.022682Z",
     "shell.execute_reply": "2023-08-01T19:26:23.021361Z"
    },
    "papermill": {
     "duration": 0.01928,
     "end_time": "2023-08-01T19:26:23.025537",
     "exception": false,
     "start_time": "2023-08-01T19:26:23.006257",
     "status": "completed"
    },
    "tags": []
   },
   "outputs": [
    {
     "name": "stderr",
     "output_type": "stream",
     "text": [
      "/opt/conda/lib/python3.10/site-packages/bs4/__init__.py:431: MarkupResemblesLocatorWarning: \"https://cf-courses-data.s3.us.cloud-object-storage.appdomain.cloud/IBMDeveloperSkillsNetwork-PY0220EN-SkillsNetwork/labs/project/amazon_data_webpage.html\" looks like a URL. Beautiful Soup is not an HTTP client. You should probably use an HTTP client like requests to get the document behind the URL, and feed that document to Beautiful Soup.\n",
      "  warnings.warn(\n"
     ]
    }
   ],
   "source": [
    "amazon_soup = BeautifulSoup(amazon_url, 'html5lib')"
   ]
  },
  {
   "cell_type": "code",
   "execution_count": 15,
   "id": "16874c69",
   "metadata": {
    "execution": {
     "iopub.execute_input": "2023-08-01T19:26:23.040916Z",
     "iopub.status.busy": "2023-08-01T19:26:23.040417Z",
     "iopub.status.idle": "2023-08-01T19:26:23.049027Z",
     "shell.execute_reply": "2023-08-01T19:26:23.047747Z"
    },
    "papermill": {
     "duration": 0.01918,
     "end_time": "2023-08-01T19:26:23.051469",
     "exception": false,
     "start_time": "2023-08-01T19:26:23.032289",
     "status": "completed"
    },
    "tags": []
   },
   "outputs": [],
   "source": [
    "amazon_data = pd.DataFrame(columns=[\"Date\", \"Open\", \"High\", \"Low\", \"Close\", \"Adj Close\",\"Volume\"])"
   ]
  },
  {
   "cell_type": "code",
   "execution_count": 16,
   "id": "d57773f4",
   "metadata": {
    "execution": {
     "iopub.execute_input": "2023-08-01T19:26:23.068697Z",
     "iopub.status.busy": "2023-08-01T19:26:23.068187Z",
     "iopub.status.idle": "2023-08-01T19:26:23.192369Z",
     "shell.execute_reply": "2023-08-01T19:26:23.191451Z"
    },
    "papermill": {
     "duration": 0.137691,
     "end_time": "2023-08-01T19:26:23.196470",
     "exception": false,
     "start_time": "2023-08-01T19:26:23.058779",
     "status": "completed"
    },
    "tags": []
   },
   "outputs": [
    {
     "name": "stderr",
     "output_type": "stream",
     "text": [
      "/tmp/ipykernel_20/2546105182.py:10: FutureWarning: The frame.append method is deprecated and will be removed from pandas in a future version. Use pandas.concat instead.\n",
      "  amazon_data = amazon_data.append({\"Date\":date, \"Open\":open, \"High\":high, \"Low\":low, \"Close\":close, \"Adj Close\":adj_close, \"Volume\":volume}, ignore_index=True)\n",
      "/tmp/ipykernel_20/2546105182.py:10: FutureWarning: The frame.append method is deprecated and will be removed from pandas in a future version. Use pandas.concat instead.\n",
      "  amazon_data = amazon_data.append({\"Date\":date, \"Open\":open, \"High\":high, \"Low\":low, \"Close\":close, \"Adj Close\":adj_close, \"Volume\":volume}, ignore_index=True)\n",
      "/tmp/ipykernel_20/2546105182.py:10: FutureWarning: The frame.append method is deprecated and will be removed from pandas in a future version. Use pandas.concat instead.\n",
      "  amazon_data = amazon_data.append({\"Date\":date, \"Open\":open, \"High\":high, \"Low\":low, \"Close\":close, \"Adj Close\":adj_close, \"Volume\":volume}, ignore_index=True)\n",
      "/tmp/ipykernel_20/2546105182.py:10: FutureWarning: The frame.append method is deprecated and will be removed from pandas in a future version. Use pandas.concat instead.\n",
      "  amazon_data = amazon_data.append({\"Date\":date, \"Open\":open, \"High\":high, \"Low\":low, \"Close\":close, \"Adj Close\":adj_close, \"Volume\":volume}, ignore_index=True)\n",
      "/tmp/ipykernel_20/2546105182.py:10: FutureWarning: The frame.append method is deprecated and will be removed from pandas in a future version. Use pandas.concat instead.\n",
      "  amazon_data = amazon_data.append({\"Date\":date, \"Open\":open, \"High\":high, \"Low\":low, \"Close\":close, \"Adj Close\":adj_close, \"Volume\":volume}, ignore_index=True)\n",
      "/tmp/ipykernel_20/2546105182.py:10: FutureWarning: The frame.append method is deprecated and will be removed from pandas in a future version. Use pandas.concat instead.\n",
      "  amazon_data = amazon_data.append({\"Date\":date, \"Open\":open, \"High\":high, \"Low\":low, \"Close\":close, \"Adj Close\":adj_close, \"Volume\":volume}, ignore_index=True)\n",
      "/tmp/ipykernel_20/2546105182.py:10: FutureWarning: The frame.append method is deprecated and will be removed from pandas in a future version. Use pandas.concat instead.\n",
      "  amazon_data = amazon_data.append({\"Date\":date, \"Open\":open, \"High\":high, \"Low\":low, \"Close\":close, \"Adj Close\":adj_close, \"Volume\":volume}, ignore_index=True)\n",
      "/tmp/ipykernel_20/2546105182.py:10: FutureWarning: The frame.append method is deprecated and will be removed from pandas in a future version. Use pandas.concat instead.\n",
      "  amazon_data = amazon_data.append({\"Date\":date, \"Open\":open, \"High\":high, \"Low\":low, \"Close\":close, \"Adj Close\":adj_close, \"Volume\":volume}, ignore_index=True)\n",
      "/tmp/ipykernel_20/2546105182.py:10: FutureWarning: The frame.append method is deprecated and will be removed from pandas in a future version. Use pandas.concat instead.\n",
      "  amazon_data = amazon_data.append({\"Date\":date, \"Open\":open, \"High\":high, \"Low\":low, \"Close\":close, \"Adj Close\":adj_close, \"Volume\":volume}, ignore_index=True)\n",
      "/tmp/ipykernel_20/2546105182.py:10: FutureWarning: The frame.append method is deprecated and will be removed from pandas in a future version. Use pandas.concat instead.\n",
      "  amazon_data = amazon_data.append({\"Date\":date, \"Open\":open, \"High\":high, \"Low\":low, \"Close\":close, \"Adj Close\":adj_close, \"Volume\":volume}, ignore_index=True)\n",
      "/tmp/ipykernel_20/2546105182.py:10: FutureWarning: The frame.append method is deprecated and will be removed from pandas in a future version. Use pandas.concat instead.\n",
      "  amazon_data = amazon_data.append({\"Date\":date, \"Open\":open, \"High\":high, \"Low\":low, \"Close\":close, \"Adj Close\":adj_close, \"Volume\":volume}, ignore_index=True)\n",
      "/tmp/ipykernel_20/2546105182.py:10: FutureWarning: The frame.append method is deprecated and will be removed from pandas in a future version. Use pandas.concat instead.\n",
      "  amazon_data = amazon_data.append({\"Date\":date, \"Open\":open, \"High\":high, \"Low\":low, \"Close\":close, \"Adj Close\":adj_close, \"Volume\":volume}, ignore_index=True)\n",
      "/tmp/ipykernel_20/2546105182.py:10: FutureWarning: The frame.append method is deprecated and will be removed from pandas in a future version. Use pandas.concat instead.\n",
      "  amazon_data = amazon_data.append({\"Date\":date, \"Open\":open, \"High\":high, \"Low\":low, \"Close\":close, \"Adj Close\":adj_close, \"Volume\":volume}, ignore_index=True)\n",
      "/tmp/ipykernel_20/2546105182.py:10: FutureWarning: The frame.append method is deprecated and will be removed from pandas in a future version. Use pandas.concat instead.\n",
      "  amazon_data = amazon_data.append({\"Date\":date, \"Open\":open, \"High\":high, \"Low\":low, \"Close\":close, \"Adj Close\":adj_close, \"Volume\":volume}, ignore_index=True)\n",
      "/tmp/ipykernel_20/2546105182.py:10: FutureWarning: The frame.append method is deprecated and will be removed from pandas in a future version. Use pandas.concat instead.\n",
      "  amazon_data = amazon_data.append({\"Date\":date, \"Open\":open, \"High\":high, \"Low\":low, \"Close\":close, \"Adj Close\":adj_close, \"Volume\":volume}, ignore_index=True)\n",
      "/tmp/ipykernel_20/2546105182.py:10: FutureWarning: The frame.append method is deprecated and will be removed from pandas in a future version. Use pandas.concat instead.\n",
      "  amazon_data = amazon_data.append({\"Date\":date, \"Open\":open, \"High\":high, \"Low\":low, \"Close\":close, \"Adj Close\":adj_close, \"Volume\":volume}, ignore_index=True)\n",
      "/tmp/ipykernel_20/2546105182.py:10: FutureWarning: The frame.append method is deprecated and will be removed from pandas in a future version. Use pandas.concat instead.\n",
      "  amazon_data = amazon_data.append({\"Date\":date, \"Open\":open, \"High\":high, \"Low\":low, \"Close\":close, \"Adj Close\":adj_close, \"Volume\":volume}, ignore_index=True)\n",
      "/tmp/ipykernel_20/2546105182.py:10: FutureWarning: The frame.append method is deprecated and will be removed from pandas in a future version. Use pandas.concat instead.\n",
      "  amazon_data = amazon_data.append({\"Date\":date, \"Open\":open, \"High\":high, \"Low\":low, \"Close\":close, \"Adj Close\":adj_close, \"Volume\":volume}, ignore_index=True)\n",
      "/tmp/ipykernel_20/2546105182.py:10: FutureWarning: The frame.append method is deprecated and will be removed from pandas in a future version. Use pandas.concat instead.\n",
      "  amazon_data = amazon_data.append({\"Date\":date, \"Open\":open, \"High\":high, \"Low\":low, \"Close\":close, \"Adj Close\":adj_close, \"Volume\":volume}, ignore_index=True)\n",
      "/tmp/ipykernel_20/2546105182.py:10: FutureWarning: The frame.append method is deprecated and will be removed from pandas in a future version. Use pandas.concat instead.\n",
      "  amazon_data = amazon_data.append({\"Date\":date, \"Open\":open, \"High\":high, \"Low\":low, \"Close\":close, \"Adj Close\":adj_close, \"Volume\":volume}, ignore_index=True)\n",
      "/tmp/ipykernel_20/2546105182.py:10: FutureWarning: The frame.append method is deprecated and will be removed from pandas in a future version. Use pandas.concat instead.\n",
      "  amazon_data = amazon_data.append({\"Date\":date, \"Open\":open, \"High\":high, \"Low\":low, \"Close\":close, \"Adj Close\":adj_close, \"Volume\":volume}, ignore_index=True)\n",
      "/tmp/ipykernel_20/2546105182.py:10: FutureWarning: The frame.append method is deprecated and will be removed from pandas in a future version. Use pandas.concat instead.\n",
      "  amazon_data = amazon_data.append({\"Date\":date, \"Open\":open, \"High\":high, \"Low\":low, \"Close\":close, \"Adj Close\":adj_close, \"Volume\":volume}, ignore_index=True)\n",
      "/tmp/ipykernel_20/2546105182.py:10: FutureWarning: The frame.append method is deprecated and will be removed from pandas in a future version. Use pandas.concat instead.\n",
      "  amazon_data = amazon_data.append({\"Date\":date, \"Open\":open, \"High\":high, \"Low\":low, \"Close\":close, \"Adj Close\":adj_close, \"Volume\":volume}, ignore_index=True)\n",
      "/tmp/ipykernel_20/2546105182.py:10: FutureWarning: The frame.append method is deprecated and will be removed from pandas in a future version. Use pandas.concat instead.\n",
      "  amazon_data = amazon_data.append({\"Date\":date, \"Open\":open, \"High\":high, \"Low\":low, \"Close\":close, \"Adj Close\":adj_close, \"Volume\":volume}, ignore_index=True)\n",
      "/tmp/ipykernel_20/2546105182.py:10: FutureWarning: The frame.append method is deprecated and will be removed from pandas in a future version. Use pandas.concat instead.\n",
      "  amazon_data = amazon_data.append({\"Date\":date, \"Open\":open, \"High\":high, \"Low\":low, \"Close\":close, \"Adj Close\":adj_close, \"Volume\":volume}, ignore_index=True)\n",
      "/tmp/ipykernel_20/2546105182.py:10: FutureWarning: The frame.append method is deprecated and will be removed from pandas in a future version. Use pandas.concat instead.\n",
      "  amazon_data = amazon_data.append({\"Date\":date, \"Open\":open, \"High\":high, \"Low\":low, \"Close\":close, \"Adj Close\":adj_close, \"Volume\":volume}, ignore_index=True)\n",
      "/tmp/ipykernel_20/2546105182.py:10: FutureWarning: The frame.append method is deprecated and will be removed from pandas in a future version. Use pandas.concat instead.\n",
      "  amazon_data = amazon_data.append({\"Date\":date, \"Open\":open, \"High\":high, \"Low\":low, \"Close\":close, \"Adj Close\":adj_close, \"Volume\":volume}, ignore_index=True)\n",
      "/tmp/ipykernel_20/2546105182.py:10: FutureWarning: The frame.append method is deprecated and will be removed from pandas in a future version. Use pandas.concat instead.\n",
      "  amazon_data = amazon_data.append({\"Date\":date, \"Open\":open, \"High\":high, \"Low\":low, \"Close\":close, \"Adj Close\":adj_close, \"Volume\":volume}, ignore_index=True)\n",
      "/tmp/ipykernel_20/2546105182.py:10: FutureWarning: The frame.append method is deprecated and will be removed from pandas in a future version. Use pandas.concat instead.\n",
      "  amazon_data = amazon_data.append({\"Date\":date, \"Open\":open, \"High\":high, \"Low\":low, \"Close\":close, \"Adj Close\":adj_close, \"Volume\":volume}, ignore_index=True)\n",
      "/tmp/ipykernel_20/2546105182.py:10: FutureWarning: The frame.append method is deprecated and will be removed from pandas in a future version. Use pandas.concat instead.\n",
      "  amazon_data = amazon_data.append({\"Date\":date, \"Open\":open, \"High\":high, \"Low\":low, \"Close\":close, \"Adj Close\":adj_close, \"Volume\":volume}, ignore_index=True)\n",
      "/tmp/ipykernel_20/2546105182.py:10: FutureWarning: The frame.append method is deprecated and will be removed from pandas in a future version. Use pandas.concat instead.\n",
      "  amazon_data = amazon_data.append({\"Date\":date, \"Open\":open, \"High\":high, \"Low\":low, \"Close\":close, \"Adj Close\":adj_close, \"Volume\":volume}, ignore_index=True)\n",
      "/tmp/ipykernel_20/2546105182.py:10: FutureWarning: The frame.append method is deprecated and will be removed from pandas in a future version. Use pandas.concat instead.\n",
      "  amazon_data = amazon_data.append({\"Date\":date, \"Open\":open, \"High\":high, \"Low\":low, \"Close\":close, \"Adj Close\":adj_close, \"Volume\":volume}, ignore_index=True)\n",
      "/tmp/ipykernel_20/2546105182.py:10: FutureWarning: The frame.append method is deprecated and will be removed from pandas in a future version. Use pandas.concat instead.\n",
      "  amazon_data = amazon_data.append({\"Date\":date, \"Open\":open, \"High\":high, \"Low\":low, \"Close\":close, \"Adj Close\":adj_close, \"Volume\":volume}, ignore_index=True)\n",
      "/tmp/ipykernel_20/2546105182.py:10: FutureWarning: The frame.append method is deprecated and will be removed from pandas in a future version. Use pandas.concat instead.\n",
      "  amazon_data = amazon_data.append({\"Date\":date, \"Open\":open, \"High\":high, \"Low\":low, \"Close\":close, \"Adj Close\":adj_close, \"Volume\":volume}, ignore_index=True)\n",
      "/tmp/ipykernel_20/2546105182.py:10: FutureWarning: The frame.append method is deprecated and will be removed from pandas in a future version. Use pandas.concat instead.\n",
      "  amazon_data = amazon_data.append({\"Date\":date, \"Open\":open, \"High\":high, \"Low\":low, \"Close\":close, \"Adj Close\":adj_close, \"Volume\":volume}, ignore_index=True)\n",
      "/tmp/ipykernel_20/2546105182.py:10: FutureWarning: The frame.append method is deprecated and will be removed from pandas in a future version. Use pandas.concat instead.\n",
      "  amazon_data = amazon_data.append({\"Date\":date, \"Open\":open, \"High\":high, \"Low\":low, \"Close\":close, \"Adj Close\":adj_close, \"Volume\":volume}, ignore_index=True)\n",
      "/tmp/ipykernel_20/2546105182.py:10: FutureWarning: The frame.append method is deprecated and will be removed from pandas in a future version. Use pandas.concat instead.\n",
      "  amazon_data = amazon_data.append({\"Date\":date, \"Open\":open, \"High\":high, \"Low\":low, \"Close\":close, \"Adj Close\":adj_close, \"Volume\":volume}, ignore_index=True)\n",
      "/tmp/ipykernel_20/2546105182.py:10: FutureWarning: The frame.append method is deprecated and will be removed from pandas in a future version. Use pandas.concat instead.\n",
      "  amazon_data = amazon_data.append({\"Date\":date, \"Open\":open, \"High\":high, \"Low\":low, \"Close\":close, \"Adj Close\":adj_close, \"Volume\":volume}, ignore_index=True)\n",
      "/tmp/ipykernel_20/2546105182.py:10: FutureWarning: The frame.append method is deprecated and will be removed from pandas in a future version. Use pandas.concat instead.\n",
      "  amazon_data = amazon_data.append({\"Date\":date, \"Open\":open, \"High\":high, \"Low\":low, \"Close\":close, \"Adj Close\":adj_close, \"Volume\":volume}, ignore_index=True)\n",
      "/tmp/ipykernel_20/2546105182.py:10: FutureWarning: The frame.append method is deprecated and will be removed from pandas in a future version. Use pandas.concat instead.\n",
      "  amazon_data = amazon_data.append({\"Date\":date, \"Open\":open, \"High\":high, \"Low\":low, \"Close\":close, \"Adj Close\":adj_close, \"Volume\":volume}, ignore_index=True)\n",
      "/tmp/ipykernel_20/2546105182.py:10: FutureWarning: The frame.append method is deprecated and will be removed from pandas in a future version. Use pandas.concat instead.\n",
      "  amazon_data = amazon_data.append({\"Date\":date, \"Open\":open, \"High\":high, \"Low\":low, \"Close\":close, \"Adj Close\":adj_close, \"Volume\":volume}, ignore_index=True)\n",
      "/tmp/ipykernel_20/2546105182.py:10: FutureWarning: The frame.append method is deprecated and will be removed from pandas in a future version. Use pandas.concat instead.\n",
      "  amazon_data = amazon_data.append({\"Date\":date, \"Open\":open, \"High\":high, \"Low\":low, \"Close\":close, \"Adj Close\":adj_close, \"Volume\":volume}, ignore_index=True)\n",
      "/tmp/ipykernel_20/2546105182.py:10: FutureWarning: The frame.append method is deprecated and will be removed from pandas in a future version. Use pandas.concat instead.\n",
      "  amazon_data = amazon_data.append({\"Date\":date, \"Open\":open, \"High\":high, \"Low\":low, \"Close\":close, \"Adj Close\":adj_close, \"Volume\":volume}, ignore_index=True)\n",
      "/tmp/ipykernel_20/2546105182.py:10: FutureWarning: The frame.append method is deprecated and will be removed from pandas in a future version. Use pandas.concat instead.\n",
      "  amazon_data = amazon_data.append({\"Date\":date, \"Open\":open, \"High\":high, \"Low\":low, \"Close\":close, \"Adj Close\":adj_close, \"Volume\":volume}, ignore_index=True)\n",
      "/tmp/ipykernel_20/2546105182.py:10: FutureWarning: The frame.append method is deprecated and will be removed from pandas in a future version. Use pandas.concat instead.\n",
      "  amazon_data = amazon_data.append({\"Date\":date, \"Open\":open, \"High\":high, \"Low\":low, \"Close\":close, \"Adj Close\":adj_close, \"Volume\":volume}, ignore_index=True)\n",
      "/tmp/ipykernel_20/2546105182.py:10: FutureWarning: The frame.append method is deprecated and will be removed from pandas in a future version. Use pandas.concat instead.\n",
      "  amazon_data = amazon_data.append({\"Date\":date, \"Open\":open, \"High\":high, \"Low\":low, \"Close\":close, \"Adj Close\":adj_close, \"Volume\":volume}, ignore_index=True)\n",
      "/tmp/ipykernel_20/2546105182.py:10: FutureWarning: The frame.append method is deprecated and will be removed from pandas in a future version. Use pandas.concat instead.\n",
      "  amazon_data = amazon_data.append({\"Date\":date, \"Open\":open, \"High\":high, \"Low\":low, \"Close\":close, \"Adj Close\":adj_close, \"Volume\":volume}, ignore_index=True)\n",
      "/tmp/ipykernel_20/2546105182.py:10: FutureWarning: The frame.append method is deprecated and will be removed from pandas in a future version. Use pandas.concat instead.\n",
      "  amazon_data = amazon_data.append({\"Date\":date, \"Open\":open, \"High\":high, \"Low\":low, \"Close\":close, \"Adj Close\":adj_close, \"Volume\":volume}, ignore_index=True)\n",
      "/tmp/ipykernel_20/2546105182.py:10: FutureWarning: The frame.append method is deprecated and will be removed from pandas in a future version. Use pandas.concat instead.\n",
      "  amazon_data = amazon_data.append({\"Date\":date, \"Open\":open, \"High\":high, \"Low\":low, \"Close\":close, \"Adj Close\":adj_close, \"Volume\":volume}, ignore_index=True)\n",
      "/tmp/ipykernel_20/2546105182.py:10: FutureWarning: The frame.append method is deprecated and will be removed from pandas in a future version. Use pandas.concat instead.\n",
      "  amazon_data = amazon_data.append({\"Date\":date, \"Open\":open, \"High\":high, \"Low\":low, \"Close\":close, \"Adj Close\":adj_close, \"Volume\":volume}, ignore_index=True)\n",
      "/tmp/ipykernel_20/2546105182.py:10: FutureWarning: The frame.append method is deprecated and will be removed from pandas in a future version. Use pandas.concat instead.\n",
      "  amazon_data = amazon_data.append({\"Date\":date, \"Open\":open, \"High\":high, \"Low\":low, \"Close\":close, \"Adj Close\":adj_close, \"Volume\":volume}, ignore_index=True)\n",
      "/tmp/ipykernel_20/2546105182.py:10: FutureWarning: The frame.append method is deprecated and will be removed from pandas in a future version. Use pandas.concat instead.\n",
      "  amazon_data = amazon_data.append({\"Date\":date, \"Open\":open, \"High\":high, \"Low\":low, \"Close\":close, \"Adj Close\":adj_close, \"Volume\":volume}, ignore_index=True)\n",
      "/tmp/ipykernel_20/2546105182.py:10: FutureWarning: The frame.append method is deprecated and will be removed from pandas in a future version. Use pandas.concat instead.\n",
      "  amazon_data = amazon_data.append({\"Date\":date, \"Open\":open, \"High\":high, \"Low\":low, \"Close\":close, \"Adj Close\":adj_close, \"Volume\":volume}, ignore_index=True)\n",
      "/tmp/ipykernel_20/2546105182.py:10: FutureWarning: The frame.append method is deprecated and will be removed from pandas in a future version. Use pandas.concat instead.\n",
      "  amazon_data = amazon_data.append({\"Date\":date, \"Open\":open, \"High\":high, \"Low\":low, \"Close\":close, \"Adj Close\":adj_close, \"Volume\":volume}, ignore_index=True)\n",
      "/tmp/ipykernel_20/2546105182.py:10: FutureWarning: The frame.append method is deprecated and will be removed from pandas in a future version. Use pandas.concat instead.\n",
      "  amazon_data = amazon_data.append({\"Date\":date, \"Open\":open, \"High\":high, \"Low\":low, \"Close\":close, \"Adj Close\":adj_close, \"Volume\":volume}, ignore_index=True)\n",
      "/tmp/ipykernel_20/2546105182.py:10: FutureWarning: The frame.append method is deprecated and will be removed from pandas in a future version. Use pandas.concat instead.\n",
      "  amazon_data = amazon_data.append({\"Date\":date, \"Open\":open, \"High\":high, \"Low\":low, \"Close\":close, \"Adj Close\":adj_close, \"Volume\":volume}, ignore_index=True)\n",
      "/tmp/ipykernel_20/2546105182.py:10: FutureWarning: The frame.append method is deprecated and will be removed from pandas in a future version. Use pandas.concat instead.\n",
      "  amazon_data = amazon_data.append({\"Date\":date, \"Open\":open, \"High\":high, \"Low\":low, \"Close\":close, \"Adj Close\":adj_close, \"Volume\":volume}, ignore_index=True)\n",
      "/tmp/ipykernel_20/2546105182.py:10: FutureWarning: The frame.append method is deprecated and will be removed from pandas in a future version. Use pandas.concat instead.\n",
      "  amazon_data = amazon_data.append({\"Date\":date, \"Open\":open, \"High\":high, \"Low\":low, \"Close\":close, \"Adj Close\":adj_close, \"Volume\":volume}, ignore_index=True)\n",
      "/tmp/ipykernel_20/2546105182.py:10: FutureWarning: The frame.append method is deprecated and will be removed from pandas in a future version. Use pandas.concat instead.\n",
      "  amazon_data = amazon_data.append({\"Date\":date, \"Open\":open, \"High\":high, \"Low\":low, \"Close\":close, \"Adj Close\":adj_close, \"Volume\":volume}, ignore_index=True)\n",
      "/tmp/ipykernel_20/2546105182.py:10: FutureWarning: The frame.append method is deprecated and will be removed from pandas in a future version. Use pandas.concat instead.\n",
      "  amazon_data = amazon_data.append({\"Date\":date, \"Open\":open, \"High\":high, \"Low\":low, \"Close\":close, \"Adj Close\":adj_close, \"Volume\":volume}, ignore_index=True)\n",
      "/tmp/ipykernel_20/2546105182.py:10: FutureWarning: The frame.append method is deprecated and will be removed from pandas in a future version. Use pandas.concat instead.\n",
      "  amazon_data = amazon_data.append({\"Date\":date, \"Open\":open, \"High\":high, \"Low\":low, \"Close\":close, \"Adj Close\":adj_close, \"Volume\":volume}, ignore_index=True)\n",
      "/tmp/ipykernel_20/2546105182.py:10: FutureWarning: The frame.append method is deprecated and will be removed from pandas in a future version. Use pandas.concat instead.\n",
      "  amazon_data = amazon_data.append({\"Date\":date, \"Open\":open, \"High\":high, \"Low\":low, \"Close\":close, \"Adj Close\":adj_close, \"Volume\":volume}, ignore_index=True)\n",
      "/tmp/ipykernel_20/2546105182.py:10: FutureWarning: The frame.append method is deprecated and will be removed from pandas in a future version. Use pandas.concat instead.\n",
      "  amazon_data = amazon_data.append({\"Date\":date, \"Open\":open, \"High\":high, \"Low\":low, \"Close\":close, \"Adj Close\":adj_close, \"Volume\":volume}, ignore_index=True)\n",
      "/tmp/ipykernel_20/2546105182.py:10: FutureWarning: The frame.append method is deprecated and will be removed from pandas in a future version. Use pandas.concat instead.\n",
      "  amazon_data = amazon_data.append({\"Date\":date, \"Open\":open, \"High\":high, \"Low\":low, \"Close\":close, \"Adj Close\":adj_close, \"Volume\":volume}, ignore_index=True)\n",
      "/tmp/ipykernel_20/2546105182.py:10: FutureWarning: The frame.append method is deprecated and will be removed from pandas in a future version. Use pandas.concat instead.\n",
      "  amazon_data = amazon_data.append({\"Date\":date, \"Open\":open, \"High\":high, \"Low\":low, \"Close\":close, \"Adj Close\":adj_close, \"Volume\":volume}, ignore_index=True)\n",
      "/tmp/ipykernel_20/2546105182.py:10: FutureWarning: The frame.append method is deprecated and will be removed from pandas in a future version. Use pandas.concat instead.\n",
      "  amazon_data = amazon_data.append({\"Date\":date, \"Open\":open, \"High\":high, \"Low\":low, \"Close\":close, \"Adj Close\":adj_close, \"Volume\":volume}, ignore_index=True)\n",
      "/tmp/ipykernel_20/2546105182.py:10: FutureWarning: The frame.append method is deprecated and will be removed from pandas in a future version. Use pandas.concat instead.\n",
      "  amazon_data = amazon_data.append({\"Date\":date, \"Open\":open, \"High\":high, \"Low\":low, \"Close\":close, \"Adj Close\":adj_close, \"Volume\":volume}, ignore_index=True)\n",
      "/tmp/ipykernel_20/2546105182.py:10: FutureWarning: The frame.append method is deprecated and will be removed from pandas in a future version. Use pandas.concat instead.\n",
      "  amazon_data = amazon_data.append({\"Date\":date, \"Open\":open, \"High\":high, \"Low\":low, \"Close\":close, \"Adj Close\":adj_close, \"Volume\":volume}, ignore_index=True)\n",
      "/tmp/ipykernel_20/2546105182.py:10: FutureWarning: The frame.append method is deprecated and will be removed from pandas in a future version. Use pandas.concat instead.\n",
      "  amazon_data = amazon_data.append({\"Date\":date, \"Open\":open, \"High\":high, \"Low\":low, \"Close\":close, \"Adj Close\":adj_close, \"Volume\":volume}, ignore_index=True)\n",
      "/tmp/ipykernel_20/2546105182.py:10: FutureWarning: The frame.append method is deprecated and will be removed from pandas in a future version. Use pandas.concat instead.\n",
      "  amazon_data = amazon_data.append({\"Date\":date, \"Open\":open, \"High\":high, \"Low\":low, \"Close\":close, \"Adj Close\":adj_close, \"Volume\":volume}, ignore_index=True)\n"
     ]
    }
   ],
   "source": [
    "for row in soup.find(\"tbody\").find_all(\"tr\"):\n",
    "    col = row.find_all(\"td\")\n",
    "    date = col[0].text\n",
    "    open = col[1].text\n",
    "    high = col[2].text\n",
    "    low = col[3].text\n",
    "    close = col[4].text\n",
    "    adj_close = col[5].text\n",
    "    volume = col[6].text\n",
    "    amazon_data = amazon_data.append({\"Date\":date, \"Open\":open, \"High\":high, \"Low\":low, \"Close\":close, \"Adj Close\":adj_close, \"Volume\":volume}, ignore_index=True) "
   ]
  },
  {
   "cell_type": "code",
   "execution_count": 17,
   "id": "825d6d69",
   "metadata": {
    "execution": {
     "iopub.execute_input": "2023-08-01T19:26:23.213919Z",
     "iopub.status.busy": "2023-08-01T19:26:23.213361Z",
     "iopub.status.idle": "2023-08-01T19:26:23.228477Z",
     "shell.execute_reply": "2023-08-01T19:26:23.227169Z"
    },
    "papermill": {
     "duration": 0.026909,
     "end_time": "2023-08-01T19:26:23.231051",
     "exception": false,
     "start_time": "2023-08-01T19:26:23.204142",
     "status": "completed"
    },
    "tags": []
   },
   "outputs": [
    {
     "data": {
      "text/html": [
       "<div>\n",
       "<style scoped>\n",
       "    .dataframe tbody tr th:only-of-type {\n",
       "        vertical-align: middle;\n",
       "    }\n",
       "\n",
       "    .dataframe tbody tr th {\n",
       "        vertical-align: top;\n",
       "    }\n",
       "\n",
       "    .dataframe thead th {\n",
       "        text-align: right;\n",
       "    }\n",
       "</style>\n",
       "<table border=\"1\" class=\"dataframe\">\n",
       "  <thead>\n",
       "    <tr style=\"text-align: right;\">\n",
       "      <th></th>\n",
       "      <th>Date</th>\n",
       "      <th>Open</th>\n",
       "      <th>High</th>\n",
       "      <th>Low</th>\n",
       "      <th>Close</th>\n",
       "      <th>Adj Close</th>\n",
       "      <th>Volume</th>\n",
       "    </tr>\n",
       "  </thead>\n",
       "  <tbody>\n",
       "    <tr>\n",
       "      <th>0</th>\n",
       "      <td>Jun 01, 2021</td>\n",
       "      <td>504.01</td>\n",
       "      <td>536.13</td>\n",
       "      <td>482.14</td>\n",
       "      <td>528.21</td>\n",
       "      <td>528.21</td>\n",
       "      <td>78,560,600</td>\n",
       "    </tr>\n",
       "    <tr>\n",
       "      <th>1</th>\n",
       "      <td>May 01, 2021</td>\n",
       "      <td>512.65</td>\n",
       "      <td>518.95</td>\n",
       "      <td>478.54</td>\n",
       "      <td>502.81</td>\n",
       "      <td>502.81</td>\n",
       "      <td>66,927,600</td>\n",
       "    </tr>\n",
       "    <tr>\n",
       "      <th>2</th>\n",
       "      <td>Apr 01, 2021</td>\n",
       "      <td>529.93</td>\n",
       "      <td>563.56</td>\n",
       "      <td>499.00</td>\n",
       "      <td>513.47</td>\n",
       "      <td>513.47</td>\n",
       "      <td>111,573,300</td>\n",
       "    </tr>\n",
       "    <tr>\n",
       "      <th>3</th>\n",
       "      <td>Mar 01, 2021</td>\n",
       "      <td>545.57</td>\n",
       "      <td>556.99</td>\n",
       "      <td>492.85</td>\n",
       "      <td>521.66</td>\n",
       "      <td>521.66</td>\n",
       "      <td>90,183,900</td>\n",
       "    </tr>\n",
       "    <tr>\n",
       "      <th>4</th>\n",
       "      <td>Feb 01, 2021</td>\n",
       "      <td>536.79</td>\n",
       "      <td>566.65</td>\n",
       "      <td>518.28</td>\n",
       "      <td>538.85</td>\n",
       "      <td>538.85</td>\n",
       "      <td>61,902,300</td>\n",
       "    </tr>\n",
       "  </tbody>\n",
       "</table>\n",
       "</div>"
      ],
      "text/plain": [
       "           Date    Open    High     Low   Close Adj Close       Volume\n",
       "0  Jun 01, 2021  504.01  536.13  482.14  528.21    528.21   78,560,600\n",
       "1  May 01, 2021  512.65  518.95  478.54  502.81    502.81   66,927,600\n",
       "2  Apr 01, 2021  529.93  563.56  499.00  513.47    513.47  111,573,300\n",
       "3  Mar 01, 2021  545.57  556.99  492.85  521.66    521.66   90,183,900\n",
       "4  Feb 01, 2021  536.79  566.65  518.28  538.85    538.85   61,902,300"
      ]
     },
     "execution_count": 17,
     "metadata": {},
     "output_type": "execute_result"
    }
   ],
   "source": [
    "amazon_data.head()"
   ]
  },
  {
   "cell_type": "code",
   "execution_count": null,
   "id": "e6be853a",
   "metadata": {
    "papermill": {
     "duration": 0.007009,
     "end_time": "2023-08-01T19:26:23.245605",
     "exception": false,
     "start_time": "2023-08-01T19:26:23.238596",
     "status": "completed"
    },
    "tags": []
   },
   "outputs": [],
   "source": []
  }
 ],
 "metadata": {
  "kernelspec": {
   "display_name": "Python 3",
   "language": "python",
   "name": "python3"
  },
  "language_info": {
   "codemirror_mode": {
    "name": "ipython",
    "version": 3
   },
   "file_extension": ".py",
   "mimetype": "text/x-python",
   "name": "python",
   "nbconvert_exporter": "python",
   "pygments_lexer": "ipython3",
   "version": "3.10.12"
  },
  "papermill": {
   "default_parameters": {},
   "duration": 93.576157,
   "end_time": "2023-08-01T19:26:24.276745",
   "environment_variables": {},
   "exception": null,
   "input_path": "__notebook__.ipynb",
   "output_path": "__notebook__.ipynb",
   "parameters": {},
   "start_time": "2023-08-01T19:24:50.700588",
   "version": "2.4.0"
  }
 },
 "nbformat": 4,
 "nbformat_minor": 5
}
